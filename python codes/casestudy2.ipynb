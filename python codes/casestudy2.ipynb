{
 "cells": [
  {
   "cell_type": "markdown",
   "id": "c861a13d",
   "metadata": {},
   "source": [
    "# Casestudy - 2"
   ]
  },
  {
   "cell_type": "code",
   "execution_count": 1,
   "id": "fca3348f",
   "metadata": {},
   "outputs": [
    {
     "data": {
      "text/html": [
       "        <script type=\"text/javascript\">\n",
       "        window.PlotlyConfig = {MathJaxConfig: 'local'};\n",
       "        if (window.MathJax) {MathJax.Hub.Config({SVG: {font: \"STIX-Web\"}});}\n",
       "        if (typeof require !== 'undefined') {\n",
       "        require.undef(\"plotly\");\n",
       "        requirejs.config({\n",
       "            paths: {\n",
       "                'plotly': ['https://cdn.plot.ly/plotly-2.11.1.min']\n",
       "            }\n",
       "        });\n",
       "        require(['plotly'], function(Plotly) {\n",
       "            window._Plotly = Plotly;\n",
       "        });\n",
       "        }\n",
       "        </script>\n",
       "        "
      ]
     },
     "metadata": {},
     "output_type": "display_data"
    }
   ],
   "source": [
    "import numpy as np\n",
    "import pandas as pd\n",
    "import seaborn as sns\n",
    "import matplotlib.pyplot as plt\n",
    "\n",
    "import plotly.offline as py \n",
    "import plotly.figure_factory as ff \n",
    "import plotly.graph_objs as go \n",
    "\n",
    "from plotly import tools \n",
    "from plotly.offline import download_plotlyjs, init_notebook_mode, iplot, plot \n",
    "init_notebook_mode(connected=True)\n",
    "\n",
    "# To show the plots inline\n",
    "%matplotlib inline"
   ]
  },
  {
   "cell_type": "code",
   "execution_count": 2,
   "id": "d03b74cf",
   "metadata": {},
   "outputs": [
    {
     "name": "stdout",
     "output_type": "stream",
     "text": [
      "The Length of the data: (685927, 3)\n"
     ]
    },
    {
     "data": {
      "text/plain": [
       "customer_email     object\n",
       "net_revenue       float64\n",
       "year                int64\n",
       "dtype: object"
      ]
     },
     "execution_count": 2,
     "metadata": {},
     "output_type": "execute_result"
    }
   ],
   "source": [
    "customer_df = pd.read_csv(r\"casestudy_2.csv\",index_col=0,low_memory=False)\n",
    "print(f\"The Length of the data: {customer_df.shape}\")\n",
    "# show the last 10 rows of data \n",
    "customer_df.head(10)\n",
    "customer_df.dtypes"
   ]
  },
  {
   "cell_type": "code",
   "execution_count": 3,
   "id": "b26d0b59",
   "metadata": {},
   "outputs": [
    {
     "data": {
      "text/plain": [
       "customer_email    0\n",
       "net_revenue       0\n",
       "year              0\n",
       "dtype: int64"
      ]
     },
     "execution_count": 3,
     "metadata": {},
     "output_type": "execute_result"
    }
   ],
   "source": [
    "customer_df.isna().sum()"
   ]
  },
  {
   "cell_type": "markdown",
   "id": "4fb66740",
   "metadata": {},
   "source": [
    "# Total revenue for the 2017(current year), 2016 and 2015"
   ]
  },
  {
   "cell_type": "code",
   "execution_count": 4,
   "id": "6b3b7bf0",
   "metadata": {},
   "outputs": [
    {
     "name": "stdout",
     "output_type": "stream",
     "text": [
      "   year  net_revenue\n",
      "0  2015  29036749.19\n",
      "1  2016  25730943.59\n",
      "2  2017  31417495.03\n"
     ]
    }
   ],
   "source": [
    "#Grouping and perform sum over each group\n",
    "total_rev=  customer_df.groupby(customer_df['year'])['net_revenue'].sum().reset_index()\n",
    "print(total_rev)"
   ]
  },
  {
   "cell_type": "markdown",
   "id": "0c5175f0",
   "metadata": {},
   "source": [
    "# New Customer Revenue e.g. new customers not present in previous year only"
   ]
  },
  {
   "cell_type": "markdown",
   "id": "d44883c3",
   "metadata": {},
   "source": [
    "# 2016"
   ]
  },
  {
   "cell_type": "code",
   "execution_count": 5,
   "id": "06e237cb",
   "metadata": {
    "scrolled": false
   },
   "outputs": [
    {
     "name": "stdout",
     "output_type": "stream",
     "text": [
      "   year  net_revenue\n",
      "1  2016  18245491.01\n"
     ]
    }
   ],
   "source": [
    "new_cus_rev_2016= customer_df.drop_duplicates(subset='customer_email')\n",
    "new_cus_2016=new_cus_rev_2016.groupby([\"year\"]).sum().reset_index()\n",
    "print(new_cus_2016[new_cus_2016[\"year\"]==2016])\n"
   ]
  },
  {
   "cell_type": "markdown",
   "id": "ddb45bb7",
   "metadata": {},
   "source": [
    "# 2017"
   ]
  },
  {
   "cell_type": "code",
   "execution_count": 6,
   "id": "8e0545fe",
   "metadata": {},
   "outputs": [
    {
     "name": "stdout",
     "output_type": "stream",
     "text": [
      "   year  net_revenue\n",
      "1  2017  28776235.04\n"
     ]
    }
   ],
   "source": [
    "\n",
    "df2= customer_df.copy()\n",
    "df2.drop(customer_df[customer_df['year'] == 2015].index, inplace = True)\n",
    "new_cus_rev_2017= df2.drop_duplicates(subset='customer_email')\n",
    "new_cus_2017= new_cus_rev_2017.groupby([\"year\"]).sum().reset_index()\n",
    "print(new_cus_2017[new_cus_2017[\"year\"]==2017])\n"
   ]
  },
  {
   "cell_type": "markdown",
   "id": "ac444bdf",
   "metadata": {},
   "source": [
    "# Existing Customer Revenue for 2016 & 2017\n",
    "\n"
   ]
  },
  {
   "cell_type": "code",
   "execution_count": 7,
   "id": "658a6198",
   "metadata": {},
   "outputs": [
    {
     "name": "stdout",
     "output_type": "stream",
     "text": [
      "exist reve 2016 21551296.60999985\n",
      "exist reve 2017 23089683.59999993\n"
     ]
    }
   ],
   "source": [
    "exi_16=float(total_rev[total_rev[\"year\"]==2016].net_revenue)-float(new_cus_2016[new_cus_2016[\"year\"]==2016].net_revenue)\n",
    "exi_17=float(total_rev[total_rev[\"year\"]==2017].net_revenue)-float(new_cus_2017[new_cus_2017[\"year\"]==2017].net_revenue)\n",
    "print(\"exist reve 2016\",float(total_rev[total_rev[\"year\"]==2015].net_revenue)-float(exi_16))\n",
    "print(\"exist reve 2017\",float(total_rev[total_rev[\"year\"]==2016].net_revenue)-float(exi_17))\n"
   ]
  },
  {
   "cell_type": "markdown",
   "id": "16db9a61",
   "metadata": {},
   "source": [
    "# Existing Customer Growth. "
   ]
  },
  {
   "cell_type": "code",
   "execution_count": 8,
   "id": "7043ef9f",
   "metadata": {},
   "outputs": [
    {
     "data": {
      "text/plain": [
       "1538386.9900000803"
      ]
     },
     "execution_count": 8,
     "metadata": {},
     "output_type": "execute_result"
    }
   ],
   "source": [
    "growth= (float(total_rev[total_rev[\"year\"]==2016].net_revenue)-float(exi_17))-(float(total_rev[total_rev[\"year\"]==2015].net_revenue)-float(exi_16))\n",
    "growth"
   ]
  },
  {
   "cell_type": "markdown",
   "id": "73853ed6",
   "metadata": {},
   "source": [
    "# Total customers in current and previous year(for 2015,2016 & 2017)"
   ]
  },
  {
   "cell_type": "code",
   "execution_count": 9,
   "id": "3739c1f3",
   "metadata": {},
   "outputs": [
    {
     "name": "stdout",
     "output_type": "stream",
     "text": [
      "   year  customer_email\n",
      "0  2015          231294\n",
      "1  2016          204646\n",
      "2  2017          249987\n"
     ]
    }
   ],
   "source": [
    "total_cus=  customer_df.groupby(customer_df['year'])['customer_email'].count().reset_index()\n",
    "print(total_cus)"
   ]
  },
  {
   "cell_type": "markdown",
   "id": "71b37dd1",
   "metadata": {},
   "source": [
    "# New customers in the years 2016 & 2017"
   ]
  },
  {
   "cell_type": "code",
   "execution_count": 10,
   "id": "fe1ec7cd",
   "metadata": {},
   "outputs": [
    {
     "name": "stdout",
     "output_type": "stream",
     "text": [
      "   year  customer_email\n",
      "1  2016          145062\n",
      "   year  customer_email\n",
      "1  2017          229028\n"
     ]
    }
   ],
   "source": [
    "new_cus_2016_count=new_cus_rev_2016.groupby([\"year\"])['customer_email'].count().reset_index()\n",
    "print(new_cus_2016_count[new_cus_2016_count[\"year\"]==2016])\n",
    "new_cus_2017_count= new_cus_rev_2017.groupby([\"year\"])['customer_email'].count().reset_index()\n",
    "print(new_cus_2017_count[new_cus_2017_count[\"year\"]==2017])"
   ]
  },
  {
   "cell_type": "markdown",
   "id": "f022fd61",
   "metadata": {},
   "source": [
    "# Lost customers in the year 2016"
   ]
  },
  {
   "cell_type": "code",
   "execution_count": 11,
   "id": "8a981d8a",
   "metadata": {},
   "outputs": [
    {
     "name": "stdout",
     "output_type": "stream",
     "text": [
      "   year  customer_email\n",
      "0  2016          183687\n"
     ]
    }
   ],
   "source": [
    "lost_cus_2016= df2.drop_duplicates(subset='customer_email',keep=\"last\")\n",
    "los_cus_2016= lost_cus_2016.groupby([\"year\"])['customer_email'].count().reset_index()\n",
    "print(los_cus_2016[los_cus_2016[\"year\"]==2016])"
   ]
  },
  {
   "cell_type": "markdown",
   "id": "1780eec1",
   "metadata": {},
   "source": [
    "# Lost customers in the year 2015"
   ]
  },
  {
   "cell_type": "code",
   "execution_count": 12,
   "id": "508574a6",
   "metadata": {},
   "outputs": [
    {
     "name": "stdout",
     "output_type": "stream",
     "text": [
      "   year  customer_email\n",
      "0  2015          171710\n"
     ]
    }
   ],
   "source": [
    "df3= customer_df.copy()\n",
    "df3.drop(customer_df[customer_df['year'] == 2017].index, inplace = True)\n",
    "lost_cus_2015= df3.drop_duplicates(subset='customer_email',keep=\"last\")\n",
    "los_cus_2015= lost_cus_2015.groupby([\"year\"])['customer_email'].count().reset_index()\n",
    "print(los_cus_2015[los_cus_2015[\"year\"]==2015])"
   ]
  },
  {
   "cell_type": "markdown",
   "id": "28670e42",
   "metadata": {},
   "source": [
    "# Revenue lost from attrition"
   ]
  },
  {
   "cell_type": "markdown",
   "id": "78f69daa",
   "metadata": {},
   "source": [
    "# 2016"
   ]
  },
  {
   "cell_type": "code",
   "execution_count": 13,
   "id": "76051af5",
   "metadata": {},
   "outputs": [
    {
     "name": "stdout",
     "output_type": "stream",
     "text": [
      "Revenue lost from attrition for 2016= 1.1138490255354823 %\n"
     ]
    }
   ],
   "source": [
    "rev_lost_2016=  ((float(total_rev[total_rev[\"year\"]==2015].net_revenue))-((float(total_rev[total_rev[\"year\"]==2016].net_revenue))-(float(total_rev[total_rev[\"year\"]==2015].net_revenue))))/(float(total_rev[total_rev[\"year\"]==2015].net_revenue))\n",
    "print(f\"Revenue lost from attrition for 2016= {rev_lost_2016} %\")                                                                                                                             "
   ]
  },
  {
   "cell_type": "markdown",
   "id": "4fa53756",
   "metadata": {},
   "source": [
    "# 2017"
   ]
  },
  {
   "cell_type": "code",
   "execution_count": 14,
   "id": "d4dce728",
   "metadata": {},
   "outputs": [
    {
     "name": "stdout",
     "output_type": "stream",
     "text": [
      "Revenue lost from attrition for 2017= 0.9180092156865698 %\n"
     ]
    }
   ],
   "source": [
    "rev_lost_2017=((float(total_rev[total_rev[\"year\"]==2015].net_revenue))-((float(total_rev[total_rev[\"year\"]==2017].net_revenue))-(float(total_rev[total_rev[\"year\"]==2015].net_revenue))))/(float(total_rev[total_rev[\"year\"]==2015].net_revenue))\n",
    "print(f\"Revenue lost from attrition for 2017= {rev_lost_2017} %\")                                                                                                                          "
   ]
  },
  {
   "cell_type": "markdown",
   "id": "267e9b00",
   "metadata": {},
   "source": [
    "# Box plot for year and net revenue"
   ]
  },
  {
   "cell_type": "code",
   "execution_count": 15,
   "id": "0eb74aac",
   "metadata": {},
   "outputs": [
    {
     "data": {
      "image/png": "[encoded data removed]",
      "text/plain": [
       "<Figure size 432x288 with 1 Axes>"
      ]
     },
     "metadata": {
      "needs_background": "light"
     },
     "output_type": "display_data"
    }
   ],
   "source": [
    "ax1 = sns.boxplot(y=\"net_revenue\", x=\"year\", data=customer_df)"
   ]
  },
  {
   "cell_type": "markdown",
   "id": "965e0a13",
   "metadata": {},
   "source": [
    "# Findings"
   ]
  },
  {
   "cell_type": "markdown",
   "id": "362c825f",
   "metadata": {},
   "source": [
    "The above graph shows that net revenue has remained constant over time."
   ]
  },
  {
   "cell_type": "code",
   "execution_count": 16,
   "id": "c57aa202",
   "metadata": {},
   "outputs": [],
   "source": [
    "years=[2015,2016,2017]\n",
    "rev_lost=[0,rev_lost_2016,rev_lost_2017]\n",
    "lost_cus=[lost_cus_2015,lost_cus_2016,0]\n",
    "new_cus_count=[0,new_cus_2016_count,new_cus_2017_count]\n",
    "new_cus_rev=[0,new_cus_rev_2016,new_cus_rev_2017]\n",
    "exi_cus_rev=[0,exi_16,exi_17]\n",
    "\n"
   ]
  },
  {
   "cell_type": "markdown",
   "id": "2af6458f",
   "metadata": {},
   "source": [
    "# Bar plot for existing customer revenue and years"
   ]
  },
  {
   "cell_type": "code",
   "execution_count": 17,
   "id": "8c8abea5",
   "metadata": {},
   "outputs": [
    {
     "data": {
      "image/png": "[encoded data removed]",
      "text/plain": [
       "<Figure size 216x324 with 1 Axes>"
      ]
     },
     "metadata": {
      "needs_background": "light"
     },
     "output_type": "display_data"
    }
   ],
   "source": [
    "from matplotlib import pyplot as plt\n",
    "\n",
    "# Set the figure size\n",
    "plt.rcParams[\"figure.figsize\"] = [3, 4.50]\n",
    "\n",
    "# Plot bar chart with data points\n",
    "plt.bar(years,exi_cus_rev)\n",
    "\n",
    "plt.title('Existing customer revenue vs years',fontsize=15,y=1.05)\n",
    "plt.xlabel('years',fontsize=10)\n",
    "plt.ylabel('Existing customer revenue',fontsize=14)\n",
    "\n",
    "# Display the plot\n",
    "plt.show()\n"
   ]
  },
  {
   "cell_type": "markdown",
   "id": "69eaf39b",
   "metadata": {},
   "source": [
    "# Findings"
   ]
  },
  {
   "cell_type": "markdown",
   "id": "67db7c12",
   "metadata": {},
   "source": [
    "The revenue of existing customers has decreased dramatically from 2016 to 2017, as shown in the graph above."
   ]
  },
  {
   "cell_type": "markdown",
   "id": "583185cc",
   "metadata": {},
   "source": [
    "# bar plot revenue lost from attrition vs years"
   ]
  },
  {
   "cell_type": "code",
   "execution_count": 18,
   "id": "776560cf",
   "metadata": {},
   "outputs": [
    {
     "data": {
      "image/png": "[encoded data removed]",
      "text/plain": [
       "<Figure size 180x324 with 1 Axes>"
      ]
     },
     "metadata": {
      "needs_background": "light"
     },
     "output_type": "display_data"
    }
   ],
   "source": [
    "from matplotlib import pyplot as plt\n",
    "plt.rcParams[\"figure.figsize\"] = [2.5, 4.50]\n",
    "plt.bar(years,rev_lost)\n",
    "plt.title('Revenue lost from attrition vs years',fontsize=15,y=1.05)\n",
    "plt.xlabel('years',fontsize=10)\n",
    "plt.ylabel('Revenue lost from attrition',fontsize=14)\n",
    "\n",
    "plt.show()"
   ]
  },
  {
   "cell_type": "markdown",
   "id": "82886224",
   "metadata": {},
   "source": [
    "# Findings"
   ]
  },
  {
   "cell_type": "markdown",
   "id": "60674bd2",
   "metadata": {},
   "source": [
    "As shown in the graph above, revenue attrition has decreased from 2016 to 2017."
   ]
  }
 ],
 "metadata": {
  "kernelspec": {
   "display_name": "Python 3",
   "language": "python",
   "name": "python3"
  },
  "language_info": {
   "codemirror_mode": {
    "name": "ipython",
    "version": 3
   },
   "file_extension": ".py",
   "mimetype": "text/x-python",
   "name": "python",
   "nbconvert_exporter": "python",
   "pygments_lexer": "ipython3",
   "version": "3.8.8"
  }
 },
 "nbformat": 4,
 "nbformat_minor": 5
}
